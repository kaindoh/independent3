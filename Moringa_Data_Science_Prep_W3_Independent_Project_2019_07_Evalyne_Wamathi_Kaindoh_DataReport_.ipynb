{
  "nbformat": 4,
  "nbformat_minor": 0,
  "metadata": {
    "colab": {
      "name": "Moringa_Data_Science_Prep_W3_Independent_Project_2019_07_Evalyne_Wamathi_Kaindoh_DataReport.",
      "version": "0.3.2",
      "provenance": [],
      "collapsed_sections": [],
      "toc_visible": true,
      "include_colab_link": true
    },
    "kernelspec": {
      "name": "python3",
      "display_name": "Python 3"
    },
    "accelerator": "GPU"
  },
  "cells": [
    {
      "cell_type": "markdown",
      "metadata": {
        "id": "view-in-github",
        "colab_type": "text"
      },
      "source": [
        "<a href=\"https://colab.research.google.com/github/kaindoh/independent3/blob/master/Moringa_Data_Science_Prep_W3_Independent_Project_2019_07_Evalyne_Wamathi_Kaindoh_DataReport_.ipynb\" target=\"_parent\"><img src=\"https://colab.research.google.com/assets/colab-badge.svg\" alt=\"Open In Colab\"/></a>"
      ]
    },
    {
      "cell_type": "markdown",
      "metadata": {
        "colab_type": "text",
        "id": "5fCEDCU_qrC0"
      },
      "source": [
        "<p><img alt=\"Colaboratory logo\" height=\"45px\" src=\"https://colab.research.google.com/img/colab_favicon.ico\" align=\"left\" hspace=\"10px\" vspace=\"0px\"></p>\n",
        "\n",
        "<h1>Welcome to Colaboratory!</h1>\n",
        "\n",
        "\n",
        "Colaboratory is a free Jupyter notebook environment that requires no setup and runs entirely in the cloud.\n",
        "\n",
        "With Colaboratory you can write and execute code, save and share your analyses, and access powerful computing resources, all for free from your browser."
      ]
    },
    {
      "cell_type": "markdown",
      "metadata": {
        "id": "z5yskg8tKW7Y",
        "colab_type": "text"
      },
      "source": [
        "#Importing libraries"
      ]
    },
    {
      "cell_type": "code",
      "metadata": {
        "id": "_tOy7CWoApfv",
        "colab_type": "code",
        "colab": {}
      },
      "source": [
        "#importing libraries\n",
        "import pandas as pd\n",
        "import numpy as np\n",
        "import datetime as dt"
      ],
      "execution_count": 0,
      "outputs": []
    },
    {
      "cell_type": "markdown",
      "metadata": {
        "id": "d1cnoHElKeHr",
        "colab_type": "text"
      },
      "source": [
        "#Loading files"
      ]
    },
    {
      "cell_type": "code",
      "metadata": {
        "id": "arvhnlpjuGnQ",
        "colab_type": "code",
        "colab": {}
      },
      "source": [
        "#loading CDR description\n",
        "CDR_descr=pd.read_excel(\"CDR_description.xlsx\",spreadsheet=0)\n",
        "CDR_descr\n"
      ],
      "execution_count": 0,
      "outputs": []
    },
    {
      "cell_type": "code",
      "metadata": {
        "id": "OLmeCjJEuN46",
        "colab_type": "code",
        "colab": {}
      },
      "source": [
        "#loading cell geo description\n",
        "cell_geo_decr=pd.read_excel(\"cells_geo_description.xlsx\",spreadsheet=0)\n",
        "cell_geo_decr.head()"
      ],
      "execution_count": 0,
      "outputs": []
    },
    {
      "cell_type": "code",
      "metadata": {
        "id": "PbBsyDmWtZLY",
        "colab_type": "code",
        "colab": {}
      },
      "source": [
        "#Loading cell geo dataset\n",
        "cell_geo=pd.read_csv(\"cells_geo.csv\",delimiter=\";\",index_col=0)\n",
        "cell_geo.head()\n"
      ],
      "execution_count": 0,
      "outputs": []
    },
    {
      "cell_type": "code",
      "metadata": {
        "id": "tq8EvHweLWfA",
        "colab_type": "code",
        "colab": {}
      },
      "source": [
        "#converting the columns to lower\n",
        "cell_geo.columns=map(str.lower,cell_geo.columns)\n",
        "cell_geo.columns\n",
        "cell_geo.head()"
      ],
      "execution_count": 0,
      "outputs": []
    },
    {
      "cell_type": "code",
      "metadata": {
        "id": "5AliVKB3tj6P",
        "colab_type": "code",
        "colab": {}
      },
      "source": [
        "#loading moringa dataset for date 7\n",
        "mtn1=pd.read_csv(\"http://bit.ly/TelecomDataset1\")\n",
        "mtn1.head()"
      ],
      "execution_count": 0,
      "outputs": []
    },
    {
      "cell_type": "code",
      "metadata": {
        "id": "A1VSqCGSviV8",
        "colab_type": "code",
        "colab": {}
      },
      "source": [
        "#converting the columns names to upper\n",
        "mtn1.columns=map(str.lower,mtn1.columns)\n",
        "mtn1.columns\n",
        "#This converting the columns so that they can be standard for the the three dates\n",
        "columns = ['product', 'value', 'datetime', 'cell_on_site', 'dw_a_number_int','dw_b_number_int', 'country_a', 'country_b', 'cell_id', 'site_id']\n",
        "mtn1.columns=columns\n",
        "mtn1.head()"
      ],
      "execution_count": 0,
      "outputs": []
    },
    {
      "cell_type": "code",
      "metadata": {
        "id": "f_gZatF4t31C",
        "colab_type": "code",
        "colab": {}
      },
      "source": [
        "#loading moringa dataset for date 8\n",
        "mtn2=pd.read_csv(\"http://bit.ly/TelecomDataset2\")\n"
      ],
      "execution_count": 0,
      "outputs": []
    },
    {
      "cell_type": "code",
      "metadata": {
        "id": "UZsKYeJTyPLd",
        "colab_type": "code",
        "colab": {}
      },
      "source": [
        "#standardizing the name of the columns\n",
        "mtn2.columns=columns\n",
        "mtn2.head()\n"
      ],
      "execution_count": 0,
      "outputs": []
    },
    {
      "cell_type": "code",
      "metadata": {
        "id": "_DzMbMktt-pS",
        "colab_type": "code",
        "colab": {}
      },
      "source": [
        "#loading moringa dataset for date 9\n",
        "mtn3=pd.read_csv(\"http://bit.ly/TelecomDataset3\")\n"
      ],
      "execution_count": 0,
      "outputs": []
    },
    {
      "cell_type": "code",
      "metadata": {
        "id": "BKokCMXJyc8A",
        "colab_type": "code",
        "colab": {}
      },
      "source": [
        "#standardizing the names of the columns\n",
        "mtn3.columns=columns\n",
        "mtn3.head()"
      ],
      "execution_count": 0,
      "outputs": []
    },
    {
      "cell_type": "markdown",
      "metadata": {
        "id": "Le6_Ym9JKJjC",
        "colab_type": "text"
      },
      "source": [
        "#checking how we can merge the cell geo with the days"
      ]
    },
    {
      "cell_type": "code",
      "metadata": {
        "id": "XGoL93p_Kpe4",
        "colab_type": "code",
        "colab": {}
      },
      "source": [
        "mtn1[mtn1.cell_id.isin(cell_geo.cell_id)].head()"
      ],
      "execution_count": 0,
      "outputs": []
    },
    {
      "cell_type": "code",
      "metadata": {
        "id": "c4oUb4xIJNrN",
        "colab_type": "code",
        "colab": {}
      },
      "source": [
        "mtn2[mtn2.cell_id.isin(cell_geo.cell_id)].head()t)].head()"
      ],
      "execution_count": 0,
      "outputs": []
    },
    {
      "cell_type": "code",
      "metadata": {
        "id": "zXCox0r-JN8l",
        "colab_type": "code",
        "colab": {}
      },
      "source": [
        "mtn3[mtn3.cell_id.isin(cell_geo.cell_id)].head()"
      ],
      "execution_count": 0,
      "outputs": []
    },
    {
      "cell_type": "markdown",
      "metadata": {
        "id": "gdSrM90bnLcy",
        "colab_type": "text"
      },
      "source": [
        "# merging the days dataset  with cell geo"
      ]
    },
    {
      "cell_type": "code",
      "metadata": {
        "id": "WI_9C5ssnYi1",
        "colab_type": "code",
        "colab": {}
      },
      "source": [
        "#merging cell geo with mt1\n",
        "mtn1merged=mtn1.merge(cell_geo,how='inner',on='cell_id')"
      ],
      "execution_count": 0,
      "outputs": []
    },
    {
      "cell_type": "code",
      "metadata": {
        "id": "YTQlj0oEqRs7",
        "colab_type": "code",
        "colab": {}
      },
      "source": [
        "#display\n",
        "mtn1merged.head()"
      ],
      "execution_count": 0,
      "outputs": []
    },
    {
      "cell_type": "code",
      "metadata": {
        "id": "gj3jT7W-nZMt",
        "colab_type": "code",
        "colab": {}
      },
      "source": [
        "#merging cell geo with mt2\n",
        "mtn2merged=mtn2.merge(cell_geo,how='inner',on='cell_id')"
      ],
      "execution_count": 0,
      "outputs": []
    },
    {
      "cell_type": "code",
      "metadata": {
        "id": "615hxykVqeGX",
        "colab_type": "code",
        "colab": {}
      },
      "source": [
        "#display\n",
        "mtn2merged.head()"
      ],
      "execution_count": 0,
      "outputs": []
    },
    {
      "cell_type": "code",
      "metadata": {
        "id": "uO3sJ2VPnZaV",
        "colab_type": "code",
        "colab": {}
      },
      "source": [
        "#merging cell geo with mt3\n",
        "mtn3merged=mtn3.merge(cell_geo,how='inner',on='cell_id')"
      ],
      "execution_count": 0,
      "outputs": []
    },
    {
      "cell_type": "code",
      "metadata": {
        "id": "OwZ8ZpDuqpci",
        "colab_type": "code",
        "colab": {}
      },
      "source": [
        "#display\n",
        "mtn3merged.head()"
      ],
      "execution_count": 0,
      "outputs": []
    },
    {
      "cell_type": "markdown",
      "metadata": {
        "id": "XIFYJBxsp7zK",
        "colab_type": "text"
      },
      "source": [
        "# concating the merged datasets\n"
      ]
    },
    {
      "cell_type": "code",
      "metadata": {
        "id": "bbCO5PomzK33",
        "colab_type": "code",
        "colab": {}
      },
      "source": [
        "#concating the three mrged datasets\n",
        "mtnTotal=pd.concat([mtn1merged,mtn2merged,mtn3merged],ignore_index=True)\n",
        "mtnTotal.head()"
      ],
      "execution_count": 0,
      "outputs": []
    },
    {
      "cell_type": "markdown",
      "metadata": {
        "id": "4WVLdrC7ryq3",
        "colab_type": "text"
      },
      "source": [
        "# Data cleaning the concatted table"
      ]
    },
    {
      "cell_type": "code",
      "metadata": {
        "id": "WFCdcXo-5kHa",
        "colab_type": "code",
        "colab": {}
      },
      "source": [
        "#We are first dopping this tables since it has been told that they are not necessary\n",
        "mtnTotal.drop(['cell_on_site','country_a','country_b'],axis=1,inplace=True)\n",
        "mtnTotal.head()\n",
        "              "
      ],
      "execution_count": 0,
      "outputs": []
    },
    {
      "cell_type": "code",
      "metadata": {
        "id": "MdlM6m1R8Cpa",
        "colab_type": "code",
        "colab": {}
      },
      "source": [
        "#checking for null values\n",
        "mtnTotal.isnull().sum()"
      ],
      "execution_count": 0,
      "outputs": []
    },
    {
      "cell_type": "code",
      "metadata": {
        "id": "r_M6_Toy8URb",
        "colab_type": "code",
        "colab": {}
      },
      "source": [
        "#we fill the null values with the median values\n",
        "mtnTotal.fillna(np.median,inplace=True)\n"
      ],
      "execution_count": 0,
      "outputs": []
    },
    {
      "cell_type": "code",
      "metadata": {
        "id": "TiToKVgFs7FA",
        "colab_type": "code",
        "colab": {}
      },
      "source": [
        "#checking if the values have been filled\n",
        "mtnTotal.isnull().sum()"
      ],
      "execution_count": 0,
      "outputs": []
    },
    {
      "cell_type": "code",
      "metadata": {
        "id": "xJWC9LcFwAsP",
        "colab_type": "code",
        "colab": {}
      },
      "source": [
        "#spliting date and time independently\n",
        "mtnTotal[['Date','time']]=mtnTotal.datetime.str.split(expand=True)\n",
        "mtnTotal.head()"
      ],
      "execution_count": 0,
      "outputs": []
    },
    {
      "cell_type": "code",
      "metadata": {
        "id": "jQjw_Sfyxkmg",
        "colab_type": "code",
        "colab": {}
      },
      "source": [
        "#converting the data types of datetime\n",
        "mtnTotal['datetime']=pd.to_datetime(mtnTotal['datetime'])\n",
        "mtnTotal['datetime'].dtype"
      ],
      "execution_count": 0,
      "outputs": []
    },
    {
      "cell_type": "code",
      "metadata": {
        "id": "XKm5UgSyyskG",
        "colab_type": "code",
        "colab": {}
      },
      "source": [
        "#converting the data types of date\n",
        "mtnTotal['Date']=pd.to_datetime(mtnTotal['Date'])\n",
        "mtnTotal['Date'].dtype"
      ],
      "execution_count": 0,
      "outputs": []
    },
    {
      "cell_type": "code",
      "metadata": {
        "id": "TrstVEL7ys11",
        "colab_type": "code",
        "colab": {}
      },
      "source": [
        "#converting the data types of time\n",
        "mtnTotal['time']=pd.to_datetime(mtnTotal['time'])\n",
        "mtnTotal['time'].dtype"
      ],
      "execution_count": 0,
      "outputs": []
    },
    {
      "cell_type": "code",
      "metadata": {
        "id": "6s8TG9By0Fns",
        "colab_type": "code",
        "colab": {}
      },
      "source": [
        "mtnTotal.dtypes"
      ],
      "execution_count": 0,
      "outputs": []
    },
    {
      "cell_type": "markdown",
      "metadata": {
        "id": "sN7SA015tTH6",
        "colab_type": "text"
      },
      "source": [
        "# Doing the Analysis"
      ]
    },
    {
      "cell_type": "code",
      "metadata": {
        "id": "G3pg_kzhtzAR",
        "colab_type": "code",
        "colab": {}
      },
      "source": [
        "#1.Which ones were the most used city for the three days?\n",
        "most_usd_cities=mtnTotal.groupby(['Date', 'villes'])['villes'].count().sort_values(ascending=False)\n",
        "most_usd_cities"
      ],
      "execution_count": 0,
      "outputs": []
    },
    {
      "cell_type": "code",
      "metadata": {
        "id": "6xXo4yDB82br",
        "colab_type": "code",
        "colab": {}
      },
      "source": [
        "#2.Which cities were the most used during business and home hours?"
      ],
      "execution_count": 0,
      "outputs": []
    },
    {
      "cell_type": "code",
      "metadata": {
        "id": "VPuMc1vetxn4",
        "colab_type": "code",
        "colab": {}
      },
      "source": [
        "morning=dt.time(9)\n",
        "morning\n",
        "evening = dt.time(17)\n",
        "buss_hr=mtnTotal[(mtnTotal.time.dt.time >= morning) & (mtnTotal.time.dt.time<=evening)]\n",
        "buss_hr.head()\n"
      ],
      "execution_count": 0,
      "outputs": []
    },
    {
      "cell_type": "code",
      "metadata": {
        "id": "s6gwHkAD-1g_",
        "colab_type": "code",
        "colab": {}
      },
      "source": [
        "cities=buss_hr.groupby('villes')['villes'].count().sort_values(ascending=False)\n",
        "cities"
      ],
      "execution_count": 0,
      "outputs": []
    },
    {
      "cell_type": "code",
      "metadata": {
        "id": "Eq_BH1EIb5ZC",
        "colab_type": "code",
        "colab": {}
      },
      "source": [
        "morning=dt.time(9)\n",
        "morning\n",
        "evening = dt.time(17)\n",
        "home_hr=mtnTotal[~(mtnTotal.time.dt.time >= morning) & (mtnTotal.time.dt.time<=evening)]\n",
        "home_hr.head()"
      ],
      "execution_count": 0,
      "outputs": []
    },
    {
      "cell_type": "code",
      "metadata": {
        "id": "pMDgoOHWAUQT",
        "colab_type": "code",
        "colab": {}
      },
      "source": [
        "cities=home_hr.groupby('villes')['villes'].count().sort_values(ascending=False)\n",
        "cities"
      ],
      "execution_count": 0,
      "outputs": []
    },
    {
      "cell_type": "code",
      "metadata": {
        "id": "gmprYI37bUd3",
        "colab_type": "code",
        "colab": {}
      },
      "source": [
        "#3.Most used city for the three days?\n",
        "most_usd_cities=mtnTotal.groupby( 'villes')['villes'].count().sort_values(ascending=False)\n",
        "most_usd_cities"
      ],
      "execution_count": 0,
      "outputs": []
    },
    {
      "cell_type": "code",
      "metadata": {
        "id": "qo_3zARLA5_c",
        "colab_type": "code",
        "colab": {}
      },
      "source": [
        ""
      ],
      "execution_count": 0,
      "outputs": []
    }
  ]
}